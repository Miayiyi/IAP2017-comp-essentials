{
 "cells": [
  {
   "cell_type": "markdown",
   "metadata": {},
   "source": [
    "# What is a programming language? #\n",
    "\n",
    "A programming language is a notation for writing programs, which are specifications of a computation or algorithm. \n"
   ]
  },
  {
   "cell_type": "markdown",
   "metadata": {},
   "source": [
    "### Examples ###\n",
    "\n",
    "Is **Matlab** a programming language? **Yes**. \"MATLAB is the high-level language and interactive environment used by millions of engineers and scientists worldwide\". The language can express computations and the software comes with the Matlab interpreter. Just because it is proprietary, has many syntax difference with other programming languages, and comes packaged with an integrated environment, doesn't mean it's not a programming language. \n",
    "\n",
    "\n",
    "Is **HTML** a programming language? **No**. HTML is a type of markup language. It encapsulates, or “marks up” data within HTML tags, which define the data and describe its purpose on the webpage. The web browser performs all the logic by parsing the HTML content and rendering it. You cannot perform any computation with HTML itself. \n",
    "\n"
   ]
  },
  {
   "cell_type": "markdown",
   "metadata": {},
   "source": [
    "## What is a Compiler? ##\n",
    "\n",
    "A computer program (or a set of programs) that transforms source code into another (often lower level) computer language such as object code, byte code, or machine code.\n",
    "\n",
    "In a compiled implementation of a language, a compiler (with linker) will translate the program directly into machine code which can be directly run by the machine. \n",
    "\n",
    "\n",
    "## What is an Interpreter? ##\n",
    "\n",
    "A computer program that directly executes, i.e. performs, instructions written in a programming or scripting language, without previously compiling them into a machine language program. An interpreter generally uses one of the following strategies for program execution:\n",
    "\n",
    "- Parse the source code and perform its behavior directly.\n",
    "- Translate source code into some efficient intermediate representation and immediately execute this.\n",
    "- Explicitly execute stored precompiled code made by a compiler which is part of the interpreter system.\n",
    "\n",
    "In interpretation, the original source code is also typically converted (compiled!) into some intermediate code which is then processed by an interpreter.\n",
    "\n",
    "## Compiled vs Interpreted Languages? ##\n",
    "\n",
    "http://www.programmerinterview.com/index.php/general-miscellaneous/whats-the-difference-between-a-compiled-and-an-interpreted-language/\n",
    "\n",
    "Interpretation and compilation are properties of the **implementation** of a language.\n",
    "\n",
    "It’s not accurate to say that a language is interpreted or compiled because interpretation and compilation are both properties of the implementation of that particular language, and not a property of the language itself. So, in theory, any language can be compiled or interpreted – it just depends on what the particular implementation that you are using does.\n",
    "\n",
    "The terms \"interpreted language\" or \"compiled language\" signify that the canonical implementation of that language is an interpreter or a compiler. A high level language is ideally an abstraction independent of particular implementations.\n",
    "\n",
    "### Advantages and disadvantages of compilation and interpretation (in general) ###\n",
    "\n",
    "- Compiled implementations of languages are usually faster because they translate directly to the native code of the specific machine.\n",
    "- Interpreted implementations of languages tend to be more portable.\n",
    "- No need to explicitly compile and execute when running interpreted implementations of languages. \n",
    "\n",
    " \n",
    "### Implementations can use a combination of both!!! ###\n",
    "\n",
    "Python and Java for instance, have main implementations which first compiles the source into byte code, which is then executed by the interpreter. \n",
    "\n",
    "Modern implementations of the Java Runtime Environment (JRE) actually perform just-in-time (JIT) compilation, compiling the byte code into machine code at run time. \n",
    "\n",
    "### Statically Typed vs Dynamically typed Languages ###\n",
    "\n",
    "A programming language is said to use static typing when type checking is performed during compile-time as opposed to run-time. eg. Regular implementation of C. \n",
    "\n",
    "A programming language is said to be dynamically typed, or just 'dynamic', when the majority of its type checking is performed at run-time as opposed to at compile-time. ie. CPython.\n"
   ]
  },
  {
   "cell_type": "code",
   "execution_count": 2,
   "metadata": {
    "collapsed": false
   },
   "outputs": [
    {
     "name": "stdout",
     "output_type": "stream",
     "text": [
      "10\n"
     ]
    }
   ],
   "source": [
    "# Dynamic Typing Example\n",
    "\n",
    "x = 100 # This runs!\n",
    "\n",
    "if x>110:\n",
    "    z = 5+'hi'\n",
    "else:\n",
    "    z = 5+5\n",
    "print(z)\n",
    "\n",
    "\n",
    "# Something similar would not compile with the C compiler. Check out wontcompile.c "
   ]
  },
  {
   "cell_type": "markdown",
   "metadata": {},
   "source": [
    "## Considerations when choosing a programming language ##\n",
    "\n",
    "- **Context of what you are trying to do/build!** \n",
    "- Speed of implementation\n",
    "- Ease/proficiency/efficiency of coding. ie. Statically typed vs dynamically typed. \n",
    "- Number of libraries and functionalities available (don't reinvent the wheel)\n",
    "- User community and standards. Open source community vs one proprietary company? Growing number of contributors vs dying popularity?\n",
    "\n"
   ]
  },
  {
   "cell_type": "markdown",
   "metadata": {},
   "source": [
    "## A few notes on speed ##\n",
    "\n",
    "\n",
    "Interpreted language implementations have overhead on loop cycles, likely making performance slow compared to a compiled language implementation. ie. upon each iteration of the loop, the interpreter has to parse the command again and decide which chunk of code to call.  \n",
    "\n",
    "When you program in Python or Matlab, you take advantage of built in data efficient data structure operations!\n",
    "http://stackoverflow.com/questions/6058139/why-is-matlab-so-fast-in-matrix-multiplication\n"
   ]
  },
  {
   "cell_type": "code",
   "execution_count": 2,
   "metadata": {
    "collapsed": false
   },
   "outputs": [
    {
     "name": "stdout",
     "output_type": "stream",
     "text": [
      "0.00446009635925293\n",
      "0.8517625331878662\n"
     ]
    }
   ],
   "source": [
    "import numpy as np\n",
    "import time\n",
    "\n",
    "x = np.ones([1000000,])\n",
    "y = np.ones([1000000,])\n",
    "\n",
    "start = time.time()\n",
    "x=x*2\n",
    "end = time.time()\n",
    "print(end - start)\n",
    "\n",
    "\n",
    "start = time.time()\n",
    "for i in range(0,1000000):\n",
    "    y[i] = y[i]*2\n",
    "end = time.time()\n",
    "print(end - start)"
   ]
  },
  {
   "cell_type": "code",
   "execution_count": 3,
   "metadata": {
    "collapsed": true
   },
   "outputs": [],
   "source": [
    "# For an interesting example regarding speed and memory management, check out twoways.c "
   ]
  },
  {
   "cell_type": "markdown",
   "metadata": {},
   "source": [
    "## Think about the ergonomics of 'speed' ##\n",
    "\n",
    "How much faster is the faster solution vs how much longer will it take you to code the same functionality?\n",
    "\n",
    "\n",
    "For instance, think about the ergononics about how much faster . In addition, you could always write your code in Python and call C executables for computationally intensive bottlenecks of the operation. Almost always for regular coders (not ), more time is saved overall when using higher level programming languages. "
   ]
  },
  {
   "cell_type": "markdown",
   "metadata": {},
   "source": [
    "# Overview of some important programming langauges #\n",
    "\n",
    "for each, show install basics? "
   ]
  },
  {
   "cell_type": "markdown",
   "metadata": {},
   "source": [
    "## C ##\n",
    "\n",
    "\n",
    "For instance, the Linux, Windows, and OSX kernels were all written in C. \n",
    "\n",
    "NVIDIA's CUDA environment for GPU processing accepts\n",
    "\n",
    "## C++ ##\n",
    "\n",
    "http://stackoverflow.com/questions/497786/why-would-anybody-use-c-over-c\n",
    "\n"
   ]
  },
  {
   "cell_type": "markdown",
   "metadata": {},
   "source": [
    "## Java ##\n",
    "\n",
    "When Java code is compiled from a .java file to a .class file, that .class file is what’s known as Java bytecode. Java is hardware/machine independent, which means that any machine can run Java bytecode provided it has a JVM specifically built for that machine. The bytecode is then interpreted (some JVM’s will compile the bytecode) by the given virtual machine. This means that the details of making the code work on a specific hardware platform are handled by the virtual machine.\n",
    "\n",
    "Java is compiled to bytecode first because it allows the virtual machine to be more efficient because it only has to recognize bytecode. This is more efficient than just having the virtual machine interpret the original source code at run time. \n",
    "\n",
    "\n",
    "\n",
    "Is Java interpreted or compiled?\n",
    "\n",
    "Interestingly enough, some implementations of Java are implemented as both interpreted and compiled – all at once. This is actually dependent on the JVM – Java is usually compiled down to the byte code by the Java compiler. But whether the JVM interprets or compiles that byte code is dependent on which JVM is being used. The difference between a JVM that compiles the byte code and a JVM that interprets the byte code is that an interpreting JVM will both translate the byte code and execute it at the same time as well, but with a JVM compiler the translation only occurs once, because an executable file is created in compilation. And that is the key difference between the two – although nowadays with just in time compilation the distinction is becoming a bit blurred.\n",
    "\n",
    "https://en.wikipedia.org/wiki/Just-in-time_compilation\n"
   ]
  },
  {
   "cell_type": "markdown",
   "metadata": {},
   "source": [
    "## Python ##\n",
    "\n",
    "A very powerful, versatile, popular language able to perform many functions. Commonly used in:\n",
    "\n",
    "- Web frameworks\n",
    "- **Data science**\n",
    "- \n",
    "\n",
    "\n",
    "\n",
    "\n",
    "\n",
    "\n",
    "'*Python is an interpreted language, as opposed to a compiled one, though the distinction can be blurry because of the presence of the bytecode compiler. This means that source files can be run directly without explicitly creating an executable which is then run.*'\n",
    "\n",
    "You can see .pyc files which contain byte code, which is what the Python interpreter compiles the source to. This code is then executed by Python's virtual machine.\n",
    "\n",
    "## Matlab ##\n",
    "\n",
    "- Has many signal processing and engineering libraries. \n",
    "- Very easy to learn. \n",
    "- Proprietary software. Costs money and rather limited to  "
   ]
  },
  {
   "cell_type": "markdown",
   "metadata": {},
   "source": []
  },
  {
   "cell_type": "markdown",
   "metadata": {},
   "source": [
    "## IDEs ##\n",
    "\n",
    "Recommended text editors for programming:\n",
    "- Sublime\n",
    "- Notepad++"
   ]
  },
  {
   "cell_type": "markdown",
   "metadata": {},
   "source": [
    "## Relational Databases and SQL ##\n",
    "\n",
    "A relational database is a digital database whose organization is based on the relational model of data. The relational model of data organizes data into one or more tables, or 'relations', with a unique key identifying each row. Rows in a table can be linked to rows in other tables by adding a column for the unique key of the linked row (such columns are known as foreign keys).\n",
    "\n",
    "The main advantages of using relational databases are consistent organization, and the ability to manipulate and extract data using Structured Query Language (SQL). Postgres is an open source relational database management system. Highly recommended!\n",
    "\n",
    "\n",
    "## Flat Files ##\n",
    "\n",
    "An ordinary file with no structure for indexing and usually no structural relationships between the records. A flat file can be a plain text file or a binary file.\n",
    "\n",
    "## Relational Database vs Flat Files ##\n",
    "\n",
    "Pros:\n",
    "- Ability to make queries using SQL!!!\n",
    "- Indexing data is very fast in relational databases. \n",
    "- Databases can watch for data integrity\n",
    "- It is easy to flexibly add content to relational databases. For flat files, data usually has to be appended. \n",
    "\n",
    "Cons:\n",
    "- Relational databases take up more disk space compared to pure binary files. \n",
    "- For simple data, flat files are easier to manage.\n",
    "- It is easier to version control flat files. \n",
    "- Easier to share and distribute flat files, although "
   ]
  },
  {
   "cell_type": "markdown",
   "metadata": {},
   "source": [
    "## Take a look at the Makefile for building MIMIC-III ##\n",
    "\n"
   ]
  },
  {
   "cell_type": "code",
   "execution_count": null,
   "metadata": {
    "collapsed": true
   },
   "outputs": [],
   "source": []
  }
 ],
 "metadata": {
  "kernelspec": {
   "display_name": "Python 3",
   "language": "python",
   "name": "python3"
  },
  "language_info": {
   "codemirror_mode": {
    "name": "ipython",
    "version": 3
   },
   "file_extension": ".py",
   "mimetype": "text/x-python",
   "name": "python",
   "nbconvert_exporter": "python",
   "pygments_lexer": "ipython3",
   "version": "3.5.2"
  }
 },
 "nbformat": 4,
 "nbformat_minor": 2
}
