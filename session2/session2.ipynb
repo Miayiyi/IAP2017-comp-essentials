{
 "cells": [
  {
   "cell_type": "code",
   "execution_count": null,
   "metadata": {
    "collapsed": true
   },
   "outputs": [],
   "source": [
    "https://en.wikipedia.org/wiki/Interpreter_(computing)#Compilers_versus_interpreters\n",
    "    \n",
    "    parse the source code and perform its behavior directly.\n",
    "    translate source code into some efficient intermediate representation and immediately execute this.\n",
    "    explicitly execute stored precompiled code[1] made by a compiler which is part of the interpreter system.\n"
   ]
  }
 ],
 "metadata": {
  "kernelspec": {
   "display_name": "Python 3",
   "language": "python",
   "name": "python3"
  },
  "language_info": {
   "codemirror_mode": {
    "name": "ipython",
    "version": 3
   },
   "file_extension": ".py",
   "mimetype": "text/x-python",
   "name": "python",
   "nbconvert_exporter": "python",
   "pygments_lexer": "ipython3",
   "version": "3.5.2"
  }
 },
 "nbformat": 4,
 "nbformat_minor": 2
}
