{
 "cells": [
  {
   "cell_type": "markdown",
   "metadata": {},
   "source": [
    "# What is a programming language? #\n",
    "\n",
    "\n"
   ]
  },
  {
   "cell_type": "markdown",
   "metadata": {},
   "source": [
    "So is Matlab a programming language? **Yes**\n",
    "\n",
    "\n",
    "\n",
    "Is HTML a programming language? **No**\n",
    "\n"
   ]
  },
  {
   "cell_type": "markdown",
   "metadata": {},
   "source": [
    "## What is a Compiler? ##\n",
    "\n",
    "A computer program (or a set of programs) that transforms source code into another computer language, with the latter often having a binary form known as object code. \n",
    "\n",
    "The name \"compiler\" is primarily used for programs that translate source code to a lower level language (e.g., assembly language or machine code).\n",
    "\n",
    "In a compiled implementation of a language, a compiler (with linker) will translate the program directly into machine code which can be directly run by the machine. \n",
    "\n",
    "\n",
    "## What is an Interpreter? ##\n",
    "\n",
    "A computer program that directly executes, i.e. performs, instructions written in a programming or scripting language, without previously compiling them into a machine language program. An interpreter generally uses one of the following strategies for program execution:\n",
    "\n",
    "- Parse the source code and perform its behavior directly.\n",
    "- Translate source code into some efficient intermediate representation and immediately execute this.\n",
    "- Explicitly execute stored precompiled code made by a compiler which is part of the interpreter system.\n",
    "\n",
    "In an interpreted implementation of a language, the source code is not directly run by the target machine. Instead, the interpreter reads and then executes the original source code. \n",
    "\n",
    "In interpretation, the original source code is also typically converted into some intermediate code which is then processed by an interpreter that converts the intermediate code into machine specific code. \n",
    "\n",
    "## Compiled vs Interpreted Languages? ##\n",
    "\n",
    "http://www.programmerinterview.com/index.php/general-miscellaneous/whats-the-difference-between-a-compiled-and-an-interpreted-language/\n",
    "\n",
    "Interpretation and compilation are properties of the **implementation** of a language.\n",
    "\n",
    "It’s not accurate to say that a language is interpreted or compiled because interpretation and compilation are both properties of the implementation of that particular language, and not a property of the language itself. So, in theory, any language can be compiled or interpreted – it just depends on what the particular implementation that you are using does.\n",
    "\n",
    "The terms \"interpreted language\" or \"compiled language\" signify that the canonical implementation of that language is an interpreter or a compiler. A high level language is ideally an abstraction independent of particular implementations.\n",
    "\n",
    "### Advantages and disadvantages of compilation and interpretation (in general) ###\n",
    "\n",
    "- Compiled implementations of languages have the advantage of being faster because they translate directly to the native code of the specific machine.\n",
    "- Interpreted implementations of languages tend to be more portable\n",
    "\n",
    "Is Java interpreted or compiled?\n",
    "\n",
    "Interestingly enough, some implementations of Java are implemented as both interpreted and compiled – all at once. This is actually dependent on the JVM – Java is usually compiled down to the byte code by the Java compiler. But whether the JVM interprets or compiles that byte code is dependent on which JVM is being used. The difference between a JVM that compiles the byte code and a JVM that interprets the byte code is that an interpreting JVM will both translate the byte code and execute it at the same time as well, but with a JVM compiler the translation only occurs once, because an executable file is created in compilation. And that is the key difference between the two – although nowadays with just in time compilation the distinction is becoming a bit blurred.\n",
    "\n",
    "\n",
    "\n",
    "\n"
   ]
  },
  {
   "cell_type": "markdown",
   "metadata": {},
   "source": [
    "## Java ##\n",
    "\n",
    "When Java code is compiled from a .java file to a .class file, that .class file is what’s known as Java bytecode. Java is hardware/machine independent, which means that any machine can run Java bytecode provided it has a JVM specifically built for that machine. The bytecode is then interpreted (some JVM’s will compile the bytecode) by the given virtual machine. This means that the details of making the code work on a specific hardware platform are handled by the virtual machine.\n",
    "\n",
    "Java is compiled to bytecode first because it allows the virtual machine to be more efficient because it only has to recognize bytecode. This is more efficient than just having the virtual machine interpret the original source code at run time. "
   ]
  },
  {
   "cell_type": "markdown",
   "metadata": {},
   "source": [
    "## Python ##\n",
    "\n",
    "A very powerful, versatile, popular language able to perform many functions. Commonly used in:\n",
    "\n",
    "- Web frameworks\n",
    "- *Data science*\n",
    "- "
   ]
  },
  {
   "cell_type": "code",
   "execution_count": null,
   "metadata": {
    "collapsed": true
   },
   "outputs": [],
   "source": []
  },
  {
   "cell_type": "markdown",
   "metadata": {},
   "source": [
    "## Relational Databases ##\n",
    "\n",
    "### You should probably use a relational database if: ###\n",
    "\n",
    "- You have a large volume of multiparameter data. \n",
    "- \n",
    "- \n",
    "- "
   ]
  },
  {
   "cell_type": "markdown",
   "metadata": {},
   "source": [
    "## Take a look at the Makefile for building MIMIC-III ##\n",
    "\n"
   ]
  },
  {
   "cell_type": "code",
   "execution_count": null,
   "metadata": {
    "collapsed": true
   },
   "outputs": [],
   "source": []
  }
 ],
 "metadata": {
  "kernelspec": {
   "display_name": "Python 3",
   "language": "python",
   "name": "python3"
  },
  "language_info": {
   "codemirror_mode": {
    "name": "ipython",
    "version": 3
   },
   "file_extension": ".py",
   "mimetype": "text/x-python",
   "name": "python",
   "nbconvert_exporter": "python",
   "pygments_lexer": "ipython3",
   "version": "3.5.2"
  }
 },
 "nbformat": 4,
 "nbformat_minor": 2
}
