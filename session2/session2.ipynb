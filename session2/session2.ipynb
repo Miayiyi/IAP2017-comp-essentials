{
 "cells": [
  {
   "cell_type": "markdown",
   "metadata": {},
   "source": [
    "# What is a programming language? #\n",
    "\n",
    "A programming language is a formal computer language designed to communicate instructions to a machine\n",
    "\n",
    "A programming language is a notation for writing programs, which are specifications of a computation or algorithm.[3] Some, but not all, authors restrict the term \"programming language\" to those languages that can express all possible algorithms.[3][4] Traits often considered important for what constitutes a programming language include:\n",
    "\n",
    "Function and target\n",
    "    A computer programming language is a language used to write computer programs, which involve a computer performing some kind of computation[5] or algorithm and possibly control external devices such as printers, disk drives, robots,[6] and so on. For example, PostScript programs are frequently created by another program to control a computer printer or display. More generally, a programming language may describe computation on some, possibly abstract, machine. It is generally accepted that a complete specification for a programming language includes a description, possibly idealized, of a machine or processor for that language.[7] In most practical contexts, a programming language involves a computer; consequently, programming languages are usually defined and studied this way.[8] Programming languages differ from natural languages in that natural languages are only used for interaction between people, while programming languages also allow humans to communicate instructions to machines.\n",
    "Abstractions\n",
    "    Programming languages usually contain abstractions for defining and manipulating data structures or controlling the flow of execution. The practical necessity that a programming language support adequate abstractions is expressed by the abstraction principle;[9] this principle is sometimes formulated as a recommendation to the programmer to make proper use of such abstractions.[10]\n",
    "Expressive power\n",
    "    The theory of computation classifies languages by the computations they are capable of expressing. All Turing complete languages can implement the same set of algorithms. ANSI/ISO SQL-92 and Charity are examples of languages that are not Turing complete, yet often called programming languages.[11][12] \n",
    "\n",
    "\n",
    "\n",
    "A computer program is a collection of instructions[1] that performs a specific task when executed by a computer. "
   ]
  },
  {
   "cell_type": "markdown",
   "metadata": {},
   "source": [
    "### Examples ###\n",
    "\n",
    "Is **Matlab** a programming language? **Yes**. \"MATLAB® is the high-level language and interactive environment used by millions of engineers and scientists worldwide\". The language can express computations and the software comes with the Matlab interpreter. Just because it is proprietary, has many syntax difference with other programming languages, and comes packaged with an integrated environment, doesn't mean it's not a programming language. \n",
    "\n",
    "\n",
    "Is **HTML** a programming language? **No**. HTML is a type of markup language. It encapsulates, or “marks up” data within HTML tags, which define the data and describe its purpose on the webpage. The web browser performs all the logic by parsing the HTML content and rendering it. \n",
    "\n"
   ]
  },
  {
   "cell_type": "markdown",
   "metadata": {},
   "source": [
    "## What is a Compiler? ##\n",
    "\n",
    "A computer program (or a set of programs) that transforms source code into another computer language, with the latter often having a binary form known as object code. \n",
    "\n",
    "The name \"compiler\" is primarily used for programs that translate source code to a lower level language (e.g., assembly language or machine code).\n",
    "\n",
    "In a compiled implementation of a language, a compiler (with linker) will translate the program directly into machine code which can be directly run by the machine. \n",
    "\n",
    "\n",
    "## What is an Interpreter? ##\n",
    "\n",
    "A computer program that directly executes, i.e. performs, instructions written in a programming or scripting language, without previously compiling them into a machine language program. An interpreter generally uses one of the following strategies for program execution:\n",
    "\n",
    "- Parse the source code and perform its behavior directly.\n",
    "- Translate source code into some efficient intermediate representation and immediately execute this.\n",
    "- Explicitly execute stored precompiled code made by a compiler which is part of the interpreter system.\n",
    "\n",
    "In an interpreted implementation of a language, the source code is not directly run by the target machine. Instead, the interpreter reads and then executes the original source code. \n",
    "\n",
    "In interpretation, the original source code is also typically converted into some intermediate code which is then processed by an interpreter that converts the intermediate code into machine specific code. \n",
    "\n",
    "## Compiled vs Interpreted Languages? ##\n",
    "\n",
    "http://www.programmerinterview.com/index.php/general-miscellaneous/whats-the-difference-between-a-compiled-and-an-interpreted-language/\n",
    "\n",
    "Interpretation and compilation are properties of the **implementation** of a language.\n",
    "\n",
    "It’s not accurate to say that a language is interpreted or compiled because interpretation and compilation are both properties of the implementation of that particular language, and not a property of the language itself. So, in theory, any language can be compiled or interpreted – it just depends on what the particular implementation that you are using does.\n",
    "\n",
    "The terms \"interpreted language\" or \"compiled language\" signify that the canonical implementation of that language is an interpreter or a compiler. A high level language is ideally an abstraction independent of particular implementations.\n",
    "\n",
    "### Advantages and disadvantages of compilation and interpretation (in general) ###\n",
    "\n",
    "- Compiled implementations of languages are usually faster because they translate directly to the native code of the specific machine.\n",
    "- Interpreted implementations of languages tend to be more portable.\n",
    "\n",
    "\n",
    "\n",
    "Native programs run using instructions written for the processor they run on.\n",
    "\n",
    "Interpreted languages are just that, \"interpreted\". Some other form of instruction is read, and interpreted, by a runtime, which in turn executes native machine instructions.\n",
    "\n",
    "Think of it this way. If you can talk in your native language to someone, that would generally work faster than having an interpreter having to translate your language into some other language for the listener to understand.\n",
    "\n",
    "Note that what I am describing above is for when a language is running in an interpreter. There are interpreters for many languages that there is also native linkers for that build native machine instructions. The speed reduction (however the size of that might be) only applies to the interpreted context.\n",
    "\n",
    "So, it is slightly incorrect to say that the language is slow, rather it is the context in which it is running that is slow.\n",
    "\n",
    "C# is not an interpreted language, even though it employs an intermediate language (IL), this is JITted to native instructions before being executed, so it has some of the same speed reduction, but not all of it, but I'd bet that if you built a fully fledged interpreter for C# or C++, it would run slower as well.\n",
    "\n",
    "And just to be clear, when I say \"slow\", that is of course a relative term.\n",
    "\n",
    "\n",
    "\n"
   ]
  },
  {
   "cell_type": "markdown",
   "metadata": {},
   "source": [
    "## C ##\n",
    "\n",
    "\n",
    "For instance, the Linux, Windows, and OSX kernels were all written in C. \n",
    "\n",
    "NVIDIA's CUDA environment for GPU processing accepts\n",
    "\n",
    "## C++ ##\n",
    "\n",
    "http://stackoverflow.com/questions/497786/why-would-anybody-use-c-over-c\n",
    "\n"
   ]
  },
  {
   "cell_type": "markdown",
   "metadata": {},
   "source": [
    "## Java ##\n",
    "\n",
    "When Java code is compiled from a .java file to a .class file, that .class file is what’s known as Java bytecode. Java is hardware/machine independent, which means that any machine can run Java bytecode provided it has a JVM specifically built for that machine. The bytecode is then interpreted (some JVM’s will compile the bytecode) by the given virtual machine. This means that the details of making the code work on a specific hardware platform are handled by the virtual machine.\n",
    "\n",
    "Java is compiled to bytecode first because it allows the virtual machine to be more efficient because it only has to recognize bytecode. This is more efficient than just having the virtual machine interpret the original source code at run time. \n",
    "\n",
    "\n",
    "\n",
    "Is Java interpreted or compiled?\n",
    "\n",
    "Interestingly enough, some implementations of Java are implemented as both interpreted and compiled – all at once. This is actually dependent on the JVM – Java is usually compiled down to the byte code by the Java compiler. But whether the JVM interprets or compiles that byte code is dependent on which JVM is being used. The difference between a JVM that compiles the byte code and a JVM that interprets the byte code is that an interpreting JVM will both translate the byte code and execute it at the same time as well, but with a JVM compiler the translation only occurs once, because an executable file is created in compilation. And that is the key difference between the two – although nowadays with just in time compilation the distinction is becoming a bit blurred.\n",
    "\n",
    "https://en.wikipedia.org/wiki/Just-in-time_compilation\n"
   ]
  },
  {
   "cell_type": "markdown",
   "metadata": {},
   "source": [
    "## Python ##\n",
    "\n",
    "A very powerful, versatile, popular language able to perform many functions. Commonly used in:\n",
    "\n",
    "- Web frameworks\n",
    "- **Data science**\n",
    "- \n",
    "\n",
    "\n",
    "\n",
    "\n",
    "\n",
    "\n",
    "'*Python is an interpreted language, as opposed to a compiled one, though the distinction can be blurry because of the presence of the bytecode compiler. This means that source files can be run directly without explicitly creating an executable which is then run.*'\n",
    "\n",
    "You can see .pyc files which contain byte code, which is what the Python interpreter compiles the source to. This code is then executed by Python's virtual machine.\n",
    "\n",
    "## Matlab ##\n",
    "\n",
    "- Has many signal processing and engineering libraries. \n",
    "- Very easy to learn. \n",
    "- Proprietary software. Costs money and rather limited to  "
   ]
  },
  {
   "cell_type": "markdown",
   "metadata": {},
   "source": [
    "## Considerations when choosing a programming language ##\n",
    "\n",
    "- Speed of implementation\n",
    "- Ease/proficiency/efficiency of coding\n",
    "- Number of libraries and functionalities available (don't reinvent the wheel)\n",
    "- User community and standards. Open source community vs one proprietary company? Growing number of contributors vs dying popularity?\n",
    "\n",
    "Interpreted languages have overhead on cycle of the loop, making performance slow compared to a compiled language.\n",
    "\n",
    "\n",
    "\n",
    "For instance, think about the ergononics about how much faster . In addition, you could always write your code in Python and call C executables for computationally intensive bottlenecks of the operation. Almost always for regular coders (not ), more time is saved overall when using higher level programming languages. "
   ]
  },
  {
   "cell_type": "markdown",
   "metadata": {},
   "source": [
    "## Relational Databases ##\n",
    "\n",
    "### You should probably use a relational database if: ###\n",
    "\n",
    "- You have a large volume of multiparameter data. \n",
    "- \n",
    "- \n",
    "- "
   ]
  },
  {
   "cell_type": "markdown",
   "metadata": {},
   "source": [
    "## Take a look at the Makefile for building MIMIC-III ##\n",
    "\n"
   ]
  },
  {
   "cell_type": "code",
   "execution_count": null,
   "metadata": {
    "collapsed": true
   },
   "outputs": [],
   "source": []
  }
 ],
 "metadata": {
  "kernelspec": {
   "display_name": "Python 3",
   "language": "python",
   "name": "python3"
  },
  "language_info": {
   "codemirror_mode": {
    "name": "ipython",
    "version": 3
   },
   "file_extension": ".py",
   "mimetype": "text/x-python",
   "name": "python",
   "nbconvert_exporter": "python",
   "pygments_lexer": "ipython3",
   "version": "3.5.2"
  }
 },
 "nbformat": 4,
 "nbformat_minor": 2
}
