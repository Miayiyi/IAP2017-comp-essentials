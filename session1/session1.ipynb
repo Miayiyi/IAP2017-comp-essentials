{
 "cells": [
  {
   "cell_type": "markdown",
   "metadata": {},
   "source": [
    "## Elementary Concepts ##\n",
    "\n",
    "### Directory structure ### \n",
    "\n",
    "- Root directory is `/` for osx/mac, effectively `C:\\` for windows.\n",
    "- User home directory is `/home/username` for osx/mac, `C:\\Users\\username\\` for windows.\n",
    "- Desktop is NOT the root directory. Each user has a desktop directory `/home/username/Desktop` or `C:\\Users\\username\\Desktop`\n",
    "- DO NOT create directory names with spaces in them. Spaces are typically used as argument delimiters for terminal based commands. \n",
    "\n",
    "### Use the terminal to send text based commands to your computer ###\n",
    "\n",
    "- Basic commands\n",
    "  - Change directory: `cd <directory>`. Single `.` means current directory, `..` means upper level directory, `~` (osx/linux) means user home directory (use `%HOMEPATH%` for windows). \n",
    "  - View contents of directory: `ls` for osx/linux, `dir` for windows. \n",
    "  - View help documentation of a command: `man <cmd>` for osx/linux, `help <cmd>` for windows. \n",
    "  - Open the graphical file explorer in the current directory: `nautilus .` for linux, `open .` for osx, `explorer .` for windows.  \n",
    "- Environment variables - a set of dynamic named values that can affect the way running processes will behave on a computer. They are part of the environment in which a process runs.\n",
    "  - User defined and system defined. \n",
    "  - List current environment variables: `printenv` or `echo $PATH` for osx/linux, `set` or `echo %PATH%` for windows. \n",
    "  - Store (user) environment variables: The `.bashrc` file for osx/linux. Multiple value environment variables are colon delimited. Windows use control panel --> System and Security --> System --> Advanced System Settings --> Environment variables \n"
   ]
  },
  {
   "cell_type": "markdown",
   "metadata": {},
   "source": [
    "## Setup ##\n",
    "\n",
    "### Install Git ### \n",
    "\n",
    "https://git-scm.com/downloads for windows and mac. Linux comes with git. Run the installer.\n",
    "\n",
    "`where git` for windows. Default: `C:\\Program Files\\Git\\bin`\n",
    "\n",
    "`which git` for osx and linux. Default: `/usr/bin/git` or `/usr/local/git/bin`\n",
    "\n",
    "\n",
    "### Install Python ###\n",
    "\n",
    "https://www.python.org/downloads/ Windows - Download and run *Windows x86-64 executable installer*. Linux and OSX should come with python. Can download newer/different python versions from the above source. Best to install both the latest python2 and python3 versions. \n",
    "\n",
    "`where python` for windows. Default path: `C:\\Users\\username\\AppData\\Local\\Programs\\Python\\Python36`\n",
    "\n",
    "`which python` for osx and linux\n",
    "\n",
    "### Ensure the git and python executable directories are in your PATH ###\n",
    "\n",
    "See the 'environment variables' section above. \n",
    "\n",
    "### Configure user in git ###\n",
    "\n",
    "`git config --global user.name \"First Last\"`\n",
    "\n",
    "`git config --global user.email \"myemail@emaildomain.com\"`\n",
    "\n",
    "### Clone this repository ###\n",
    "\n",
    "- Choose a reasonable location. Should be a directory under your user home. \n",
    "- `git clone https://github.com/cx1111/IAP2017-comp-essentials.git`\n",
    "\n",
    "### Install pip ###\n",
    "\n",
    "Pip is a recursive acronym that can stand for either \"Pip Installs Packages\" or \"Pip Installs Python\". It is the central package management system used to install and manage software packages written in Python\n",
    "\n",
    "- Download `get-pip.py` file from https://pip.pypa.io/en/stable/installing/\n",
    "- From a terminal, navigate to the directory you downloaded `get-pip.py` into and run: `python get-pip.py`\n",
    "\n",
    "### Set up a virtual python environment ###\n",
    "\n",
    "http://docs.python-guide.org/en/latest/dev/virtualenvs/\n",
    "\n",
    "A Virtual Environment is a tool to keep the dependencies required by different projects in separate places, by creating virtual Python environments for them. It solves the “Project X depends on version 1.x but, Project Y needs 4.x” dilemma, and keeps your global site-packages directory clean and manageable.\n",
    "\n",
    "- Use pip to install the 'virtualenv' package from the terminal: `pip install virtualenv`\n",
    "- Choose/create a directory in which you will install your future python environments. ie. /home/username/Software/pythonenvs/ \n",
    "- Change to that directory and create your new virtual environment: `virtualenv -p /usr/bin/python3.6 <newenvname>`\n",
    "- Activate the virtual environment by running the **activate** script created in your new environment: \n",
    "  - Linux and OSX eg: `source /home/username/Software/pythonenvs/newenvname/bin/activate`\n",
    "  - \n"
   ]
  },
  {
   "cell_type": "code",
   "execution_count": null,
   "metadata": {
    "collapsed": true
   },
   "outputs": [],
   "source": []
  },
  {
   "cell_type": "code",
   "execution_count": null,
   "metadata": {
    "collapsed": true
   },
   "outputs": [],
   "source": []
  },
  {
   "cell_type": "code",
   "execution_count": null,
   "metadata": {
    "collapsed": true
   },
   "outputs": [],
   "source": []
  },
  {
   "cell_type": "code",
   "execution_count": null,
   "metadata": {
    "collapsed": true
   },
   "outputs": [],
   "source": []
  },
  {
   "cell_type": "code",
   "execution_count": null,
   "metadata": {
    "collapsed": true
   },
   "outputs": [],
   "source": []
  },
  {
   "cell_type": "code",
   "execution_count": null,
   "metadata": {
    "collapsed": true
   },
   "outputs": [],
   "source": []
  }
 ],
 "metadata": {
  "kernelspec": {
   "display_name": "Python 3",
   "language": "python",
   "name": "python3"
  },
  "language_info": {
   "codemirror_mode": {
    "name": "ipython",
    "version": 3
   },
   "file_extension": ".py",
   "mimetype": "text/x-python",
   "name": "python",
   "nbconvert_exporter": "python",
   "pygments_lexer": "ipython3",
   "version": "3.5.2"
  }
 },
 "nbformat": 4,
 "nbformat_minor": 2
}
