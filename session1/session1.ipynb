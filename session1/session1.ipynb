{
 "cells": [
  {
   "cell_type": "markdown",
   "metadata": {},
   "source": [
    "## Elementary Concepts ##\n",
    "\n",
    "### Directory structure ### \n",
    "\n",
    "- Root directory is `/` for osx/mac, effectively `C:\\` for windows.\n",
    "- User home directory is `/home/username` for osx/mac, `C:\\Users\\username\\` for windows.\n",
    "- Desktop is NOT the root directory. Each user has a desktop directory `/home/username/Desktop` or `C:\\Users\\username\\Desktop`\n",
    "- DO NOT create directory names with spaces in them. Spaces are typically used as argument delimiters for terminal based commands. \n",
    "\n",
    "### Use the terminal to send text based commands to your computer ###\n",
    "\n",
    "- Basic commands\n",
    "  - Change directory: `cd <directory>`. Single `.` means current directory, `..` means upper level directory, `~` (osx/linux) means user home directory (use `%HOMEPATH%` for windows). \n",
    "  - View contents of directory: `ls` for osx/linux, `dir` for windows. \n",
    "  - Create new directory: `mkdir <directory>`\n",
    "  - View help documentation of a command: `man <cmd>` for osx/linux, `help <cmd>` for windows. \n",
    "  - Open the graphical file explorer in the current directory: `nautilus .` for linux, `open .` for osx, `explorer .` for windows.  \n",
    "- Environment variables - a set of dynamic named values that can affect the way running processes will behave on a computer. They are part of the environment in which a process runs.\n",
    "  - User defined and system defined. \n",
    "  - List current environment variables: `printenv` or `echo $PATH` for osx/linux, `set` or `echo %PATH%` for windows. \n",
    "  - Store (user) environment variables: The `.bashrc` file for osx/linux. Multiple value environment variables are colon delimited. Windows use control panel --> System and Security --> System --> Advanced System Settings --> Environment variables \n"
   ]
  },
  {
   "cell_type": "markdown",
   "metadata": {},
   "source": [
    "## Setup ##\n",
    "\n",
    "### Install Git ### \n",
    "\n",
    "https://git-scm.com/downloads for windows and mac. Linux comes with git. Run the installer.\n",
    "\n",
    "`where git` for windows. Default: `C:\\Program Files\\Git\\bin`\n",
    "\n",
    "`which git` for osx and linux. Default: `/usr/bin/git` or `/usr/local/git/bin`\n",
    "\n",
    "\n",
    "### Install Python ###\n",
    "\n",
    "https://www.python.org/downloads/ Windows - Download and run *Windows x86-64 executable installer*. Linux and OSX should come with python. Can download newer/different python versions from the above source. Best to install both the latest python2 and python3 versions. https://docs.python.org/3/using/windows.html \n",
    "\n",
    "For windows, default path: `C:\\Users\\username\\AppData\\Local\\Programs\\Python\\Python36`. Personal recommendation: `C:\\Users\\username\\Software\\Python\\Python36`\n",
    "\n",
    "`where python` for windows to check.\n",
    "\n",
    "`which python` for osx and linux to check.\n",
    "\n",
    "### Ensure the git and python executable directories are in your PATH ###\n",
    "\n",
    "See the 'environment variables' section above. \n",
    "\n",
    "### Configure user in git ###\n",
    "\n",
    "`git config --global user.name \"First Last\"`\n",
    "\n",
    "`git config --global user.email \"myemail@emaildomain.com\"`\n",
    "\n",
    "### Clone this repository ###\n",
    "\n",
    "- Choose a reasonable location. Should be a directory under your user home. \n",
    "- `git clone https://github.com/cx1111/IAP2017-comp-essentials.git`\n",
    "\n",
    "### Install pip ###\n",
    "\n",
    "Pip is a recursive acronym that can stand for either \"Pip Installs Packages\" or \"Pip Installs Python\". It is the central package management system used to install and manage software packages written in Python\n",
    "\n",
    "- Download `get-pip.py` file from https://pip.pypa.io/en/stable/installing/\n",
    "- From a terminal, navigate to the directory you downloaded `get-pip.py` into and run: `python get-pip.py`\n",
    "\n",
    "### Set up a virtual python environment ###\n",
    "\n",
    "http://docs.python-guide.org/en/latest/dev/virtualenvs/\n",
    "\n",
    "A Virtual Environment is a tool to keep the dependencies required by different projects in separate places, by creating virtual Python environments for them. It solves the “Project X depends on version 1.x but, Project Y needs 4.x” dilemma, and keeps your global site-packages directory clean and manageable.\n",
    "\n",
    "- Use pip to install the 'virtualenv' package from the terminal: `pip install virtualenv`\n",
    "- Choose/create a directory in which you will install your future python environments. ie. /home/username/Software/pythonenvs/ \n",
    "- Change to that directory and create your new virtual environment: `virtualenv -p /usr/bin/python3.6 <newenvname>`\n",
    "- Activate the virtual environment by running the **activate** script created in your new environment. With OSX/Linux, run shell scripts with `source`. With windows, just specify the script.  \n",
    "  - Linux and OSX eg: `source /home/username/Software/pythonenvs/newenvname/bin/activate`\n",
    "  - Windows eg: `C:\\Users\\username\\Software\\Python\\Python36`\n",
    "- To deactivate the virtual environment, type `deactivate`\n",
    "\n",
    "### Install all your favorite python packages in your virtual environment ###\n",
    "\n",
    "These are some key packages. Only need to install jupyter for this class. \n",
    "\n",
    "- `pip install jupyter` \n",
    "- `pip install numpy`\n",
    "- `pip install matplotlib`\n",
    "- `pip install pandas`\n",
    "- `pip install scipy`\n",
    "\n",
    "### Open your local copy of this notebook file! ###\n",
    "\n",
    "Change directory to where you downloaded this git repository. eg: `cd /home/username/Projects/IAP2017-comp-essentials`\n",
    "\n",
    "Activate jupyter notebook (your virtual environment should be active): `jupyter-notebook` "
   ]
  },
  {
   "cell_type": "markdown",
   "metadata": {},
   "source": [
    "![title](http://i.imgur.com/p099l9p.png)"
   ]
  },
  {
   "cell_type": "markdown",
   "metadata": {},
   "source": [
    "# Files #"
   ]
  },
  {
   "cell_type": "markdown",
   "metadata": {},
   "source": [
    "http://www.asciitable.com/"
   ]
  },
  {
   "cell_type": "code",
   "execution_count": 12,
   "metadata": {
    "collapsed": false
   },
   "outputs": [],
   "source": [
    "# Create file 1\n",
    "\n",
    "f=open('file1','w')\n",
    "f.write('Your life is the sum of a remainder of an unbalanced equation inherent to the programming of the matrix.')\n",
    "f.close()"
   ]
  },
  {
   "cell_type": "code",
   "execution_count": 13,
   "metadata": {
    "collapsed": false
   },
   "outputs": [
    {
     "name": "stdout",
     "output_type": "stream",
     "text": [
      "Your life is the sum of a remainder of an unbalanced equation inherent to the programming of the matrix.\n"
     ]
    }
   ],
   "source": [
    "# Look at file 1\n",
    "\n",
    "f=open('file1')\n",
    "contents = f.read()\n",
    "print(contents)"
   ]
  },
  {
   "cell_type": "code",
   "execution_count": 19,
   "metadata": {
    "collapsed": false
   },
   "outputs": [],
   "source": [
    "# Create file 2\n",
    "\n",
    "import numpy as np\n",
    "\n",
    "numbersarray = np.array([1,2,3,4,5,6,7,8,9,10,11,12,13,14,15])\n",
    "\n",
    "f=open('file2','wb')\n",
    "# help numbersarary.tofile\n",
    "numbersarray.tofile(f)\n",
    "f.close()"
   ]
  },
  {
   "cell_type": "code",
   "execution_count": 31,
   "metadata": {
    "collapsed": false
   },
   "outputs": [
    {
     "name": "stdout",
     "output_type": "stream",
     "text": [
      "Unsigned 8 bit interpretation (printed in hexadecimal):\n",
      "b'\\x01\\x00\\x00\\x00\\x00\\x00\\x00\\x00\\x02\\x00\\x00\\x00\\x00\\x00\\x00\\x00\\x03\\x00\\x00\\x00\\x00\\x00\\x00\\x00\\x04\\x00\\x00\\x00\\x00\\x00\\x00\\x00\\x05\\x00\\x00\\x00\\x00\\x00\\x00\\x00\\x06\\x00\\x00\\x00\\x00\\x00\\x00\\x00\\x07\\x00\\x00\\x00\\x00\\x00\\x00\\x00\\x08\\x00\\x00\\x00\\x00\\x00\\x00\\x00\\t\\x00\\x00\\x00\\x00\\x00\\x00\\x00\\n\\x00\\x00\\x00\\x00\\x00\\x00\\x00\\x0b\\x00\\x00\\x00\\x00\\x00\\x00\\x00\\x0c\\x00\\x00\\x00\\x00\\x00\\x00\\x00\\r\\x00\\x00\\x00\\x00\\x00\\x00\\x00\\x0e\\x00\\x00\\x00\\x00\\x00\\x00\\x00\\x0f\\x00\\x00\\x00\\x00\\x00\\x00\\x00'\n",
      "\n",
      "\n",
      "\n",
      "Unsigned 8 bit interpretation\n",
      "[ 1  0  0  0  0  0  0  0  2  0  0  0  0  0  0  0  3  0  0  0  0  0  0  0  4\n",
      "  0  0  0  0  0  0  0  5  0  0  0  0  0  0  0  6  0  0  0  0  0  0  0  7  0\n",
      "  0  0  0  0  0  0  8  0  0  0  0  0  0  0  9  0  0  0  0  0  0  0 10  0  0\n",
      "  0  0  0  0  0 11  0  0  0  0  0  0  0 12  0  0  0  0  0  0  0 13  0  0  0\n",
      "  0  0  0  0 14  0  0  0  0  0  0  0 15  0  0  0  0  0  0  0]\n",
      "\n",
      "\n",
      "\n",
      "Unsigned 64 bit interpretation:\n",
      "[ 1  2  3  4  5  6  7  8  9 10 11 12 13 14 15]\n",
      "\n",
      "\n",
      "\n",
      "ASCII character representation:\n",
      "b''\n"
     ]
    },
    {
     "data": {
      "text/plain": [
       "0"
      ]
     },
     "execution_count": 31,
     "metadata": {},
     "output_type": "execute_result"
    }
   ],
   "source": [
    "# Look at file 2\n",
    "\n",
    "print('Unsigned 8 bit interpretation (printed in hexadecimal):')\n",
    "f1=open('file2', 'rb')\n",
    "contents1 = f1.read()\n",
    "print(contents1)\n",
    "f1.close()\n",
    "\n",
    "print('\\n\\n\\nUnsigned 8 bit interpretation')\n",
    "\n",
    "f2 = open('file2', 'rb')\n",
    "contents2 = np.fromfile(f2, dtype = 'uint8')\n",
    "print(contents2)\n",
    "f2.close()\n",
    "\n",
    "print('\\n\\n\\nUnsigned 64 bit interpretation:')\n",
    "\n",
    "f3 = open('file2', 'rb')\n",
    "contents3 = np.fromfile(f3, dtype = 'uint64')\n",
    "print(contents3)\n",
    "f3.close()\n",
    "\n",
    "print('\\n\\n\\nASCII character representation:')\n",
    "\n",
    "f4 = open('file2', 'r')\n",
    "contents4 = f.read()\n",
    "print(contents4)\n",
    "#f4.close()\n",
    "\n",
    "\n",
    "f4.seek(0)\n",
    "\n"
   ]
  },
  {
   "cell_type": "code",
   "execution_count": 22,
   "metadata": {
    "collapsed": false
   },
   "outputs": [
    {
     "name": "stdout",
     "output_type": "stream",
     "text": [
      "Help on built-in function tofile:\n",
      "\n",
      "tofile(...) method of numpy.ndarray instance\n",
      "    a.tofile(fid, sep=\"\", format=\"%s\")\n",
      "    \n",
      "    Write array to a file as text or binary (default).\n",
      "    \n",
      "    Data is always written in 'C' order, independent of the order of `a`.\n",
      "    The data produced by this method can be recovered using the function\n",
      "    fromfile().\n",
      "    \n",
      "    Parameters\n",
      "    ----------\n",
      "    fid : file or str\n",
      "        An open file object, or a string containing a filename.\n",
      "    sep : str\n",
      "        Separator between array items for text output.\n",
      "        If \"\" (empty), a binary file is written, equivalent to\n",
      "        ``file.write(a.tobytes())``.\n",
      "    format : str\n",
      "        Format string for text file output.\n",
      "        Each entry in the array is formatted to text by first converting\n",
      "        it to the closest Python type, and then using \"format\" % item.\n",
      "    \n",
      "    Notes\n",
      "    -----\n",
      "    This is a convenience function for quick storage of array data.\n",
      "    Information on endianness and precision is lost, so this method is not a\n",
      "    good choice for files intended to archive data or transport data between\n",
      "    machines with different endianness. Some of these problems can be overcome\n",
      "    by outputting the data as text files, at the expense of speed and file\n",
      "    size.\n",
      "\n"
     ]
    }
   ],
   "source": [
    "help(numbersarray.tofile)"
   ]
  },
  {
   "cell_type": "code",
   "execution_count": null,
   "metadata": {
    "collapsed": true
   },
   "outputs": [],
   "source": []
  },
  {
   "cell_type": "code",
   "execution_count": null,
   "metadata": {
    "collapsed": true
   },
   "outputs": [],
   "source": []
  },
  {
   "cell_type": "markdown",
   "metadata": {},
   "source": [
    "# Bring-home lessons #\n",
    "\n",
    "- Understand your directory structure. Know your root directory, your user home, and that desktop is a subdirectory of your user home.\n",
    "- Be comfortable with navigating, creating, and deleting your directories, through the terminal.\n",
    "- Be aware of your environment variables. Mainly it's just the PATH variable. \n",
    "- Know how to use python environments to manage package environments. \n",
    "- Know how to install python packages with pip. \n",
    "- Use the jupyter-notebook. It's great!\n"
   ]
  },
  {
   "cell_type": "code",
   "execution_count": null,
   "metadata": {
    "collapsed": true
   },
   "outputs": [],
   "source": []
  }
 ],
 "metadata": {
  "kernelspec": {
   "display_name": "Python 3",
   "language": "python",
   "name": "python3"
  },
  "language_info": {
   "codemirror_mode": {
    "name": "ipython",
    "version": 3
   },
   "file_extension": ".py",
   "mimetype": "text/x-python",
   "name": "python",
   "nbconvert_exporter": "python",
   "pygments_lexer": "ipython3",
   "version": "3.5.2"
  }
 },
 "nbformat": 4,
 "nbformat_minor": 2
}
